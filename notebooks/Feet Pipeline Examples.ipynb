{
 "cells": [
  {
   "cell_type": "code",
   "execution_count": 1,
   "metadata": {},
   "outputs": [],
   "source": [
    "import numpy as np\n",
    "import pandas as pd\n",
    "from faker import Faker\n",
    "from sklearn.datasets import load_iris, fetch_20newsgroups\n",
    "from sklearn.model_selection import StratifiedKFold\n",
    "from sklearn.linear_model import LogisticRegression\n",
    "from sklearn.metrics import roc_auc_score\n",
    "\n",
    "from feet import pipeline_from_config"
   ]
  },
  {
   "cell_type": "code",
   "execution_count": 2,
   "metadata": {},
   "outputs": [],
   "source": [
    "iris_predictive_columns = ['sepal length (cm)', 'sepal width (cm)', 'petal length (cm)', 'petal width (cm)']\n",
    "target_column = 'target'\n",
    "\n",
    "def get_iris_dataframe():\n",
    "    iris = load_iris()\n",
    "    df = pd.DataFrame(data= np.c_[iris['data'], iris['target']],\n",
    "                      columns= iris['feature_names'] + ['target'])\\\n",
    "           .assign(target=lambda y: y.target.apply(lambda x: 0 if x == 0 else 1))\n",
    "\n",
    "    return df[iris[\"feature_names\"]], df['target']"
   ]
  },
  {
   "cell_type": "code",
   "execution_count": 3,
   "metadata": {},
   "outputs": [
    {
     "name": "stdout",
     "output_type": "stream",
     "text": [
      "AUC: 1.000\n",
      "AUC: 1.000\n",
      "AUC: 1.000\n",
      "AUC: 1.000\n",
      "AUC: 1.000\n"
     ]
    }
   ],
   "source": [
    "# test GMM transformer\n",
    "df, y = get_iris_dataframe()\n",
    "config = {\n",
    "    \"post_process\": [\n",
    "        {\"name\": \"gmm\", \"config\": {\"clusters\": 50}}\n",
    "    ]\n",
    "}\n",
    "    \n",
    "pipeline = pipeline_from_config(config)\n",
    "\n",
    "\n",
    "skf = StratifiedKFold(n_splits=5)\n",
    "for train_index, test_index in skf.split(df, y):\n",
    "    X_train = pipeline.fit_transform(df.loc[train_index])\n",
    "    y_train = y[train_index]\n",
    "    \n",
    "    X_test = pipeline.transform(df.loc[test_index])\n",
    "    y_test = y[test_index]\n",
    "    \n",
    "    clf = LogisticRegression().fit(X_train, y_train)\n",
    "    y_pred = clf.predict_proba(X_test)[:,1]\n",
    "    \n",
    "    print (\"AUC: %0.3f\" % roc_auc_score(y_test, y_pred))"
   ]
  },
  {
   "cell_type": "code",
   "execution_count": 4,
   "metadata": {},
   "outputs": [
    {
     "name": "stdout",
     "output_type": "stream",
     "text": [
      "Kernel: linear, AUC: 1.000\n",
      "Kernel: poly, AUC: 1.000\n",
      "Kernel: rbf, AUC: 1.000\n",
      "Kernel: sigmoid, AUC: 1.000\n",
      "Kernel: cosine, AUC: 1.000\n",
      "Kernel: linear, AUC: 1.000\n",
      "Kernel: poly, AUC: 1.000\n",
      "Kernel: rbf, AUC: 1.000\n",
      "Kernel: sigmoid, AUC: 1.000\n",
      "Kernel: cosine, AUC: 1.000\n",
      "Kernel: linear, AUC: 1.000\n",
      "Kernel: poly, AUC: 1.000\n",
      "Kernel: rbf, AUC: 1.000\n",
      "Kernel: sigmoid, AUC: 1.000\n",
      "Kernel: cosine, AUC: 1.000\n",
      "Kernel: linear, AUC: 1.000\n",
      "Kernel: poly, AUC: 1.000\n",
      "Kernel: rbf, AUC: 1.000\n",
      "Kernel: sigmoid, AUC: 1.000\n",
      "Kernel: cosine, AUC: 1.000\n",
      "Kernel: linear, AUC: 1.000\n",
      "Kernel: poly, AUC: 1.000\n",
      "Kernel: rbf, AUC: 1.000\n",
      "Kernel: sigmoid, AUC: 0.900\n",
      "Kernel: cosine, AUC: 1.000\n"
     ]
    }
   ],
   "source": [
    "pipeline = pipeline_from_config(config)\n",
    "\n",
    "\n",
    "skf = StratifiedKFold(n_splits=5)\n",
    "for train_index, test_index in skf.split(df, y):\n",
    "    for kernel in [\"linear\", \"poly\", \"rbf\", \"sigmoid\", \"cosine\"]:\n",
    "        config = {\n",
    "            \"post_process\": [\n",
    "                {\"name\": \"kpca\", \"config\": {\"n_components\": 10, \"kernel\": kernel}}\n",
    "            ]\n",
    "        }\n",
    "    \n",
    "        pipeline = pipeline_from_config(config)\n",
    "        X_train = pipeline.fit_transform(df.loc[train_index])\n",
    "        y_train = y[train_index]\n",
    "    \n",
    "        X_test = pipeline.transform(df.loc[test_index])\n",
    "        y_test = y[test_index]\n",
    "    \n",
    "        clf = LogisticRegression().fit(X_train, y_train)\n",
    "        y_pred = clf.predict_proba(X_test)[:,1]\n",
    "    \n",
    "        print (\"Kernel: %s, AUC: %0.3f\" % (kernel, roc_auc_score(y_test, y_pred)))"
   ]
  },
  {
   "cell_type": "code",
   "execution_count": null,
   "metadata": {},
   "outputs": [],
   "source": []
  }
 ],
 "metadata": {
  "kernelspec": {
   "display_name": "Python 3",
   "language": "python",
   "name": "python3"
  },
  "language_info": {
   "codemirror_mode": {
    "name": "ipython",
    "version": 3
   },
   "file_extension": ".py",
   "mimetype": "text/x-python",
   "name": "python",
   "nbconvert_exporter": "python",
   "pygments_lexer": "ipython3",
   "version": "3.7.6"
  }
 },
 "nbformat": 4,
 "nbformat_minor": 4
}
